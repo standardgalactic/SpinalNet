{
 "cells": [
  {
   "cell_type": "markdown",
   "metadata": {
    "papermill": {
     "duration": 0.011045,
     "end_time": "2021-11-16T04:24:21.866925",
     "exception": false,
     "start_time": "2021-11-16T04:24:21.855880",
     "status": "completed"
    },
    "tags": []
   },
   "source": [
    "This script implements wide Resnet 101 with Spinal FC on the CIFAR100 dataset.\n",
    "\n",
    "\n",
    "\n",
    "The SpinalNet is proposed in this paper:\n",
    "Kabir, H.M., Abdar, M., Jalali, S.M.J., Khosravi, A., Atiya, A.F., Nahavandi, S., and Srinivasan, D., 2020. SpinalNet: Deep Neural Network with Gradual Input. arXiv preprint arXiv:2007.03347.\n",
    "\n",
    "\n",
    "\n",
    "Paper Link: https://arxiv.org/abs/2007.03347\n",
    "Code Link: https://github.com/dipuk0506/SpinalNet"
   ]
  },
  {
   "cell_type": "code",
   "execution_count": 1,
   "metadata": {
    "execution": {
     "iopub.execute_input": "2021-11-16T04:24:21.893014Z",
     "iopub.status.busy": "2021-11-16T04:24:21.892392Z",
     "iopub.status.idle": "2021-11-16T04:24:23.312971Z",
     "shell.execute_reply": "2021-11-16T04:24:23.312445Z"
    },
    "papermill": {
     "duration": 1.436275,
     "end_time": "2021-11-16T04:24:23.313084",
     "exception": false,
     "start_time": "2021-11-16T04:24:21.876809",
     "status": "completed"
    },
    "tags": []
   },
   "outputs": [],
   "source": [
    "from __future__ import print_function, division\n",
    "\n",
    "import matplotlib\n",
    "import imageio\n",
    "import torch\n",
    "import torch.nn as nn\n",
    "import torch.optim as optim\n",
    "from torch.optim import lr_scheduler\n",
    "import numpy as np\n",
    "import torchvision\n",
    "from torchvision import datasets, models, transforms\n",
    "import matplotlib.pyplot as plt\n",
    "import time\n",
    "import os\n",
    "import copy\n",
    "\n",
    "device = torch.device(\"cuda:0\" if torch.cuda.is_available() else \"cpu\")"
   ]
  },
  {
   "cell_type": "markdown",
   "metadata": {
    "papermill": {
     "duration": 0.009583,
     "end_time": "2021-11-16T04:24:23.332784",
     "exception": false,
     "start_time": "2021-11-16T04:24:23.323201",
     "status": "completed"
    },
    "tags": []
   },
   "source": [
    "## Download and Data Split"
   ]
  },
  {
   "cell_type": "code",
   "execution_count": 2,
   "metadata": {
    "execution": {
     "iopub.execute_input": "2021-11-16T04:24:23.361418Z",
     "iopub.status.busy": "2021-11-16T04:24:23.360558Z",
     "iopub.status.idle": "2021-11-16T04:24:23.373082Z",
     "shell.execute_reply": "2021-11-16T04:24:23.372655Z"
    },
    "papermill": {
     "duration": 0.030944,
     "end_time": "2021-11-16T04:24:23.373191",
     "exception": false,
     "start_time": "2021-11-16T04:24:23.342247",
     "status": "completed"
    },
    "tags": []
   },
   "outputs": [],
   "source": [
    "folderlocation = './Data/'\n",
    "path = folderlocation\n",
    "if not os.path.exists(path):\n",
    "    os.mkdir(path)\n",
    "\n",
    "path = folderlocation + 'train/'\n",
    "if not os.path.exists(path):\n",
    "    os.mkdir(path)\n",
    "        \n",
    "path = folderlocation + 'valid/'\n",
    "if not os.path.exists(path):\n",
    "    os.mkdir(path)\n",
    "\n",
    "path = folderlocation + 'test/'\n",
    "if not os.path.exists(path):\n",
    "    os.mkdir(path)\n",
    "    \n",
    "for iter1 in range(100):    # 100 = number of classes\n",
    "    path = folderlocation + 'train/'+str(iter1)\n",
    "    if not os.path.exists(path):\n",
    "        os.mkdir(path)\n",
    "    path = folderlocation + 'valid/'+str(iter1)\n",
    "    if not os.path.exists(path):\n",
    "        os.mkdir(path)\n",
    "    \n",
    "    path = folderlocation + 'test/'+str(iter1)\n",
    "    if not os.path.exists(path):\n",
    "        os.mkdir(path)"
   ]
  },
  {
   "cell_type": "code",
   "execution_count": 3,
   "metadata": {
    "execution": {
     "iopub.execute_input": "2021-11-16T04:24:23.401194Z",
     "iopub.status.busy": "2021-11-16T04:24:23.400553Z",
     "iopub.status.idle": "2021-11-16T04:25:09.912512Z",
     "shell.execute_reply": "2021-11-16T04:25:09.911312Z"
    },
    "papermill": {
     "duration": 46.529752,
     "end_time": "2021-11-16T04:25:09.912650",
     "exception": false,
     "start_time": "2021-11-16T04:24:23.382898",
     "status": "completed"
    },
    "tags": []
   },
   "outputs": [
    {
     "name": "stdout",
     "output_type": "stream",
     "text": [
      "Downloading https://www.cs.toronto.edu/~kriz/cifar-100-python.tar.gz to /files/cifar-100-python.tar.gz\n"
     ]
    },
    {
     "data": {
      "application/vnd.jupyter.widget-view+json": {
       "model_id": "76000cdeb9414440adab8de8549ddb91",
       "version_major": 2,
       "version_minor": 0
      },
      "text/plain": [
       "HBox(children=(FloatProgress(value=1.0, bar_style='info', max=1.0), HTML(value='')))"
      ]
     },
     "metadata": {},
     "output_type": "display_data"
    },
    {
     "name": "stdout",
     "output_type": "stream",
     "text": [
      "Extracting /files/cifar-100-python.tar.gz to /files/\n",
      "Files already downloaded and verified\n"
     ]
    }
   ],
   "source": [
    "data_train = torchvision.datasets.CIFAR100('/files/', train=True, download=True,\n",
    "                             transform=torchvision.transforms.Compose([\n",
    "                             ]))\n",
    "        \n",
    "for iter1 in range(len(data_train)):\n",
    "    x, a = data_train[iter1] \n",
    "    if iter1%10 ==4:\n",
    "        imageio.imwrite(folderlocation + 'valid/'+str(a)+'/valid'+str(iter1)+'.png', x)\n",
    "    else:\n",
    "        imageio.imwrite(folderlocation + 'train/'+str(a)+'/train'+str(iter1)+'.png', x)\n",
    "    \n",
    "data_test = torchvision.datasets.CIFAR100('/files/', train=False, download=True,\n",
    "                             transform=torchvision.transforms.Compose([\n",
    "                             ]))\n",
    "\n",
    "for iter1 in range(len(data_test)):\n",
    "    x, a = data_test[iter1] \n",
    "    imageio.imwrite(folderlocation + 'test/'+str(a)+'/test'+str(iter1)+'.png', x)\n",
    "\n"
   ]
  },
  {
   "cell_type": "markdown",
   "metadata": {
    "papermill": {
     "duration": 0.011062,
     "end_time": "2021-11-16T04:25:09.936943",
     "exception": false,
     "start_time": "2021-11-16T04:25:09.925881",
     "status": "completed"
    },
    "tags": []
   },
   "source": [
    "## Dataloader"
   ]
  },
  {
   "cell_type": "code",
   "execution_count": 4,
   "metadata": {
    "_cell_guid": "b1076dfc-b9ad-4769-8c92-a6c4dae69d19",
    "_uuid": "8f2839f25d086af736a60e9eeb907d3b93b6e0e5",
    "execution": {
     "iopub.execute_input": "2021-11-16T04:25:09.978924Z",
     "iopub.status.busy": "2021-11-16T04:25:09.978009Z",
     "iopub.status.idle": "2021-11-16T04:25:10.215104Z",
     "shell.execute_reply": "2021-11-16T04:25:10.214371Z"
    },
    "papermill": {
     "duration": 0.266376,
     "end_time": "2021-11-16T04:25:10.215243",
     "exception": false,
     "start_time": "2021-11-16T04:25:09.948867",
     "status": "completed"
    },
    "tags": []
   },
   "outputs": [],
   "source": [
    "data_transforms = {\n",
    "    'train': transforms.Compose([\n",
    "        transforms.Resize((272,272)),\n",
    "        transforms.RandomRotation(15,),\n",
    "        transforms.RandomCrop(256),\n",
    "        transforms.RandomHorizontalFlip(),\n",
    "        transforms.ToTensor(),\n",
    "        transforms.Normalize(mean=[0.507, 0.487, 0.441], std=[0.267, 0.256, 0.276])\n",
    "    ]),\n",
    "    'valid': transforms.Compose([\n",
    "        transforms.Resize(256),\n",
    "        transforms.ToTensor(),\n",
    "        transforms.Normalize(mean=[0.507, 0.487, 0.441], std=[0.267, 0.256, 0.276])\n",
    "    ]),\n",
    "     'test': transforms.Compose([\n",
    "        transforms.Resize(256),\n",
    "        transforms.ToTensor(),\n",
    "        transforms.Normalize(mean=[0.507, 0.487, 0.441], std=[0.267, 0.256, 0.276])\n",
    "    ]),\n",
    "}\n",
    "\n",
    "\n",
    "\n",
    "data_dir = folderlocation\n",
    "image_datasets = {x: datasets.ImageFolder(os.path.join(data_dir, x),\n",
    "                                          data_transforms[x])\n",
    "                  for x in ['train', 'valid', 'test']}\n",
    "dataloaders = {x: torch.utils.data.DataLoader(image_datasets[x], batch_size=56,\n",
    "                                             shuffle=True, num_workers=0)\n",
    "              for x in ['train', 'valid', 'test']}\n",
    "dataset_sizes = {x: len(image_datasets[x]) for x in ['train', 'valid', 'test']}\n",
    "\n",
    "class_names = image_datasets['train'].classes\n",
    "\n",
    "device = torch.device(\"cuda:0\" if torch.cuda.is_available() else \"cpu\")\n",
    "def imshow(inp, title=None):\n",
    "    \"\"\"Imshow for Tensor.\"\"\"\n",
    "    inp = inp.numpy().transpose((1, 2, 0))\n",
    "    mean = np.array([0.485, 0.456, 0.406])\n",
    "    std = np.array([0.229, 0.224, 0.225])\n",
    "    inp = std * inp + mean\n",
    "    inp = np.clip(inp, 0, 1)\n",
    "    plt.imshow(inp)\n",
    "    if title is not None:\n",
    "        plt.title(title)\n",
    "    plt.pause(0.001)  # pause a bit so that plots are updated"
   ]
  },
  {
   "cell_type": "markdown",
   "metadata": {
    "papermill": {
     "duration": 0.011043,
     "end_time": "2021-11-16T04:25:10.237671",
     "exception": false,
     "start_time": "2021-11-16T04:25:10.226628",
     "status": "completed"
    },
    "tags": []
   },
   "source": [
    "## Model Selection"
   ]
  },
  {
   "cell_type": "code",
   "execution_count": 5,
   "metadata": {
    "_cell_guid": "79c7e3d0-c299-4dcb-8224-4455121ee9b0",
    "_uuid": "d629ff2d2480ee46fbb7e2d37f6b5fab8052498a",
    "execution": {
     "iopub.execute_input": "2021-11-16T04:25:10.275320Z",
     "iopub.status.busy": "2021-11-16T04:25:10.274620Z",
     "iopub.status.idle": "2021-11-16T04:25:14.550264Z",
     "shell.execute_reply": "2021-11-16T04:25:14.549614Z"
    },
    "papermill": {
     "duration": 4.301488,
     "end_time": "2021-11-16T04:25:14.550382",
     "exception": false,
     "start_time": "2021-11-16T04:25:10.248894",
     "status": "completed"
    },
    "tags": []
   },
   "outputs": [
    {
     "name": "stderr",
     "output_type": "stream",
     "text": [
      "Downloading: \"https://download.pytorch.org/models/wide_resnet101_2-32ee1156.pth\" to /root/.cache/torch/checkpoints/wide_resnet101_2-32ee1156.pth\n"
     ]
    },
    {
     "data": {
      "application/vnd.jupyter.widget-view+json": {
       "model_id": "64892f1b1b0d4f1ab2714119c0c48fca",
       "version_major": 2,
       "version_minor": 0
      },
      "text/plain": [
       "HBox(children=(FloatProgress(value=0.0, max=254695146.0), HTML(value='')))"
      ]
     },
     "metadata": {},
     "output_type": "display_data"
    },
    {
     "name": "stdout",
     "output_type": "stream",
     "text": [
      "\n"
     ]
    }
   ],
   "source": [
    "\n",
    "model_ft = models.wide_resnet101_2(pretrained=True)\n",
    "num_ftrs = model_ft.fc.in_features\n",
    "\n",
    "half_in_size = round(num_ftrs/2)\n",
    "layer_width = 200 #Small for Resnet, large for VGG\n",
    "Num_class=100\n",
    "\n",
    "class SpinalNet_ResNet(nn.Module):\n",
    "    def __init__(self):\n",
    "        super(SpinalNet_ResNet, self).__init__()\n",
    "        \n",
    "        self.fc_spinal_layer1 = nn.Sequential(\n",
    "            nn.Linear(half_in_size, layer_width),\n",
    "            nn.ReLU(inplace=True),)\n",
    "        self.fc_spinal_layer2 = nn.Sequential(\n",
    "            nn.Linear(half_in_size+layer_width, layer_width),\n",
    "            nn.ReLU(inplace=True),)\n",
    "        self.fc_spinal_layer3 = nn.Sequential(\n",
    "            nn.Linear(half_in_size+layer_width, layer_width),\n",
    "            nn.ReLU(inplace=True),)\n",
    "        self.fc_spinal_layer4 = nn.Sequential(\n",
    "            nn.Linear(half_in_size+layer_width, layer_width),\n",
    "            nn.ReLU(inplace=True),)\n",
    "        self.fc_out = nn.Sequential(\n",
    "            nn.Linear(layer_width*4, Num_class),)\n",
    "        \n",
    "    def forward(self, x):\n",
    "        x1 = self.fc_spinal_layer1(x[:, 0:half_in_size])\n",
    "        x2 = self.fc_spinal_layer2(torch.cat([ x[:,half_in_size:2*half_in_size], x1], dim=1))\n",
    "        x3 = self.fc_spinal_layer3(torch.cat([ x[:,0:half_in_size], x2], dim=1))\n",
    "        x4 = self.fc_spinal_layer4(torch.cat([ x[:,half_in_size:2*half_in_size], x3], dim=1))\n",
    "        \n",
    "        \n",
    "        x = torch.cat([x1, x2], dim=1)\n",
    "        x = torch.cat([x, x3], dim=1)\n",
    "        x = torch.cat([x, x4], dim=1)\n",
    "\n",
    "        \n",
    "        x = self.fc_out(x)\n",
    "        return x\n",
    "    \n",
    "\n",
    "\n",
    "\n",
    "'''\n",
    "Changing the fully connected layer to SpinalNet or VGG or ResNet\n",
    "'''\n",
    "\n",
    "#model_ft.fc = nn.Linear(num_ftrs, 100)\n",
    "model_ft.fc = SpinalNet_ResNet() #SpinalNet_VGG\n"
   ]
  },
  {
   "cell_type": "markdown",
   "metadata": {
    "papermill": {
     "duration": 0.014067,
     "end_time": "2021-11-16T04:25:14.577565",
     "exception": false,
     "start_time": "2021-11-16T04:25:14.563498",
     "status": "completed"
    },
    "tags": []
   },
   "source": [
    "## Training Function"
   ]
  },
  {
   "cell_type": "code",
   "execution_count": 6,
   "metadata": {
    "execution": {
     "iopub.execute_input": "2021-11-16T04:25:14.623450Z",
     "iopub.status.busy": "2021-11-16T04:25:14.622812Z",
     "iopub.status.idle": "2021-11-16T04:25:18.094097Z",
     "shell.execute_reply": "2021-11-16T04:25:18.093609Z"
    },
    "papermill": {
     "duration": 3.504293,
     "end_time": "2021-11-16T04:25:18.094240",
     "exception": false,
     "start_time": "2021-11-16T04:25:14.589947",
     "status": "completed"
    },
    "tags": []
   },
   "outputs": [],
   "source": [
    "def train_model(model, criterion, optimizer, scheduler, num_epochs=25):\n",
    "    since = time.time()\n",
    "\n",
    "    best_model_wts = copy.deepcopy(model.state_dict())\n",
    "    best_acc = 0.0\n",
    "    test_token=0\n",
    "\n",
    "    for epoch in range(num_epochs):\n",
    "        print('Epoch {}/{}'.format(epoch, num_epochs - 1))\n",
    "        print('-' * 10)\n",
    "\n",
    "        # Each epoch has a training and validation phase\n",
    "        for phase in ['train', 'valid', 'test']:\n",
    "            '''\n",
    "            Test when a better validation result is found\n",
    "            '''\n",
    "            if test_token ==0 and phase == 'test':\n",
    "                continue\n",
    "            test_token =0\n",
    "            \n",
    "            \n",
    "            if phase == 'train':\n",
    "                model.train()  # Set model to training mode\n",
    "            else:\n",
    "                model.eval()   # Set model to evaluate mode\n",
    "\n",
    "            running_loss = 0.0\n",
    "            running_corrects = 0\n",
    "\n",
    "            # Iterate over data.\n",
    "            for inputs, labels in dataloaders[phase]:\n",
    "                inputs = inputs.to(device)\n",
    "                labels = labels.to(device)\n",
    "\n",
    "                # zero the parameter gradients\n",
    "                optimizer.zero_grad()\n",
    "\n",
    "                # forward\n",
    "                # track history if only in train\n",
    "                with torch.set_grad_enabled(phase == 'train'):\n",
    "                    outputs = model(inputs)\n",
    "                    _, preds = torch.max(outputs, 1)\n",
    "                    loss = criterion(outputs, labels)\n",
    "\n",
    "                    # backward + optimize only if in training phase\n",
    "                    if phase == 'train':\n",
    "                        loss.backward()\n",
    "                        optimizer.step()\n",
    "\n",
    "                # statistics\n",
    "                running_loss += loss.item() * inputs.size(0)\n",
    "                running_corrects += torch.sum(preds == labels.data)\n",
    "            if phase == 'train':\n",
    "                scheduler.step()\n",
    "\n",
    "            epoch_loss = running_loss / dataset_sizes[phase]\n",
    "            epoch_acc = running_corrects.double() / dataset_sizes[phase]\n",
    "\n",
    "            print('{} Loss: {:.4f} Acc: {:.4f}'.format(\n",
    "                phase, epoch_loss, epoch_acc))\n",
    "\n",
    "            # deep copy the model\n",
    "            if phase == 'valid' and epoch_acc > best_acc:\n",
    "                best_acc = epoch_acc\n",
    "                best_model_wts = copy.deepcopy(model.state_dict())\n",
    "                test_token =1\n",
    "\n",
    "\n",
    "        print()\n",
    "\n",
    "    time_elapsed = time.time() - since\n",
    "    print('Training complete in {:.0f}m {:.0f}s'.format(\n",
    "        time_elapsed // 60, time_elapsed % 60))\n",
    "    print('Best val Acc: {:4f}'.format(best_acc))\n",
    "\n",
    "    # load best model weights\n",
    "    model.load_state_dict(best_model_wts)\n",
    "    return model\n",
    "\n",
    "\n",
    "model_ft = model_ft.to(device)\n",
    "\n",
    "criterion = nn.CrossEntropyLoss()\n"
   ]
  },
  {
   "cell_type": "markdown",
   "metadata": {
    "papermill": {
     "duration": 0.012473,
     "end_time": "2021-11-16T04:25:18.119499",
     "exception": false,
     "start_time": "2021-11-16T04:25:18.107026",
     "status": "completed"
    },
    "tags": []
   },
   "source": [
    "## Training lr = 0.01"
   ]
  },
  {
   "cell_type": "code",
   "execution_count": 7,
   "metadata": {
    "execution": {
     "iopub.execute_input": "2021-11-16T04:25:18.151690Z",
     "iopub.status.busy": "2021-11-16T04:25:18.150934Z",
     "iopub.status.idle": "2021-11-16T05:58:25.738409Z",
     "shell.execute_reply": "2021-11-16T05:58:25.738852Z"
    },
    "papermill": {
     "duration": 5587.606707,
     "end_time": "2021-11-16T05:58:25.738977",
     "exception": false,
     "start_time": "2021-11-16T04:25:18.132270",
     "status": "completed"
    },
    "tags": []
   },
   "outputs": [
    {
     "name": "stdout",
     "output_type": "stream",
     "text": [
      "Epoch 0/4\n",
      "----------\n",
      "train Loss: 1.8577 Acc: 0.5135\n",
      "valid Loss: 1.1150 Acc: 0.6804\n",
      "test Loss: 1.0755 Acc: 0.6851\n",
      "\n",
      "Epoch 1/4\n",
      "----------\n",
      "train Loss: 0.9400 Acc: 0.7215\n",
      "valid Loss: 1.0416 Acc: 0.7042\n",
      "test Loss: 1.0114 Acc: 0.7136\n",
      "\n",
      "Epoch 2/4\n",
      "----------\n",
      "train Loss: 0.7244 Acc: 0.7800\n",
      "valid Loss: 0.8838 Acc: 0.7460\n",
      "test Loss: 0.8544 Acc: 0.7518\n",
      "\n",
      "Epoch 3/4\n",
      "----------\n",
      "train Loss: 0.5827 Acc: 0.8210\n",
      "valid Loss: 0.8086 Acc: 0.7678\n",
      "test Loss: 0.7782 Acc: 0.7768\n",
      "\n",
      "Epoch 4/4\n",
      "----------\n",
      "train Loss: 0.4704 Acc: 0.8524\n",
      "valid Loss: 0.8200 Acc: 0.7764\n",
      "test Loss: 0.8138 Acc: 0.7785\n",
      "\n",
      "Training complete in 93m 8s\n",
      "Best val Acc: 0.776400\n"
     ]
    }
   ],
   "source": [
    "# Observe that all parameters are being optimized\n",
    "optimizer_ft = optim.SGD(model_ft.parameters(), lr=0.01, momentum=0.9)\n",
    "\n",
    "# Decay LR by a factor of 0.1 every 7 epochs\n",
    "exp_lr_scheduler = lr_scheduler.StepLR(optimizer_ft, step_size=7, gamma=0.1)\n",
    "\n",
    "model_ft = train_model(model_ft, criterion, optimizer_ft, exp_lr_scheduler, num_epochs=5)"
   ]
  },
  {
   "cell_type": "markdown",
   "metadata": {
    "papermill": {
     "duration": 0.017133,
     "end_time": "2021-11-16T05:58:25.773435",
     "exception": false,
     "start_time": "2021-11-16T05:58:25.756302",
     "status": "completed"
    },
    "tags": []
   },
   "source": [
    "## Training lr = 0.001"
   ]
  },
  {
   "cell_type": "code",
   "execution_count": 8,
   "metadata": {
    "execution": {
     "iopub.execute_input": "2021-11-16T05:58:25.816375Z",
     "iopub.status.busy": "2021-11-16T05:58:25.815600Z",
     "iopub.status.idle": "2021-11-16T07:31:34.224432Z",
     "shell.execute_reply": "2021-11-16T07:31:34.224881Z"
    },
    "papermill": {
     "duration": 5588.434499,
     "end_time": "2021-11-16T07:31:34.225019",
     "exception": false,
     "start_time": "2021-11-16T05:58:25.790520",
     "status": "completed"
    },
    "tags": []
   },
   "outputs": [
    {
     "name": "stdout",
     "output_type": "stream",
     "text": [
      "Epoch 0/4\n",
      "----------\n",
      "train Loss: 0.2110 Acc: 0.9334\n",
      "valid Loss: 0.5112 Acc: 0.8526\n",
      "test Loss: 0.5117 Acc: 0.8506\n",
      "\n",
      "Epoch 1/4\n",
      "----------\n",
      "train Loss: 0.1329 Acc: 0.9590\n",
      "valid Loss: 0.5054 Acc: 0.8580\n",
      "test Loss: 0.5061 Acc: 0.8547\n",
      "\n",
      "Epoch 2/4\n",
      "----------\n",
      "train Loss: 0.1036 Acc: 0.9680\n",
      "valid Loss: 0.5039 Acc: 0.8646\n",
      "test Loss: 0.5072 Acc: 0.8594\n",
      "\n",
      "Epoch 3/4\n",
      "----------\n",
      "train Loss: 0.0846 Acc: 0.9748\n",
      "valid Loss: 0.5063 Acc: 0.8680\n",
      "test Loss: 0.5133 Acc: 0.8618\n",
      "\n",
      "Epoch 4/4\n",
      "----------\n",
      "train Loss: 0.0726 Acc: 0.9789\n",
      "valid Loss: 0.5068 Acc: 0.8700\n",
      "test Loss: 0.5181 Acc: 0.8621\n",
      "\n",
      "Training complete in 93m 8s\n",
      "Best val Acc: 0.870000\n"
     ]
    }
   ],
   "source": [
    "# Observe that all parameters are being optimized\n",
    "optimizer_ft = optim.SGD(model_ft.parameters(), lr=0.001, momentum=0.9)\n",
    "\n",
    "# Decay LR by a factor of 0.1 every 7 epochs\n",
    "exp_lr_scheduler = lr_scheduler.StepLR(optimizer_ft, step_size=7, gamma=0.1)\n",
    "\n",
    "model_ft = train_model(model_ft, criterion, optimizer_ft, exp_lr_scheduler, num_epochs=5)"
   ]
  },
  {
   "cell_type": "markdown",
   "metadata": {
    "papermill": {
     "duration": 0.021326,
     "end_time": "2021-11-16T07:31:34.268053",
     "exception": false,
     "start_time": "2021-11-16T07:31:34.246727",
     "status": "completed"
    },
    "tags": []
   },
   "source": [
    "## Training lr = 0.0001"
   ]
  },
  {
   "cell_type": "code",
   "execution_count": 9,
   "metadata": {
    "execution": {
     "iopub.execute_input": "2021-11-16T07:31:34.319033Z",
     "iopub.status.busy": "2021-11-16T07:31:34.318232Z",
     "iopub.status.idle": "2021-11-16T09:00:27.808738Z",
     "shell.execute_reply": "2021-11-16T09:00:27.809203Z"
    },
    "papermill": {
     "duration": 5333.519658,
     "end_time": "2021-11-16T09:00:27.809344",
     "exception": false,
     "start_time": "2021-11-16T07:31:34.289686",
     "status": "completed"
    },
    "tags": []
   },
   "outputs": [
    {
     "name": "stdout",
     "output_type": "stream",
     "text": [
      "Epoch 0/4\n",
      "----------\n",
      "train Loss: 0.0569 Acc: 0.9840\n",
      "valid Loss: 0.5007 Acc: 0.8688\n",
      "test Loss: 0.5122 Acc: 0.8639\n",
      "\n",
      "Epoch 1/4\n",
      "----------\n",
      "train Loss: 0.0553 Acc: 0.9846\n",
      "valid Loss: 0.5018 Acc: 0.8670\n",
      "\n",
      "Epoch 2/4\n",
      "----------\n",
      "train Loss: 0.0537 Acc: 0.9852\n",
      "valid Loss: 0.5078 Acc: 0.8674\n",
      "\n",
      "Epoch 3/4\n",
      "----------\n",
      "train Loss: 0.0530 Acc: 0.9858\n",
      "valid Loss: 0.4999 Acc: 0.8688\n",
      "\n",
      "Epoch 4/4\n",
      "----------\n",
      "train Loss: 0.0514 Acc: 0.9859\n",
      "valid Loss: 0.4994 Acc: 0.8690\n",
      "test Loss: 0.5121 Acc: 0.8631\n",
      "\n",
      "Training complete in 88m 53s\n",
      "Best val Acc: 0.869000\n"
     ]
    }
   ],
   "source": [
    "# Observe that all parameters are being optimized\n",
    "optimizer_ft = optim.SGD(model_ft.parameters(), lr=0.0001, momentum=0.9)\n",
    "\n",
    "# Decay LR by a factor of 0.1 every 7 epochs\n",
    "exp_lr_scheduler = lr_scheduler.StepLR(optimizer_ft, step_size=7, gamma=0.1)\n",
    "\n",
    "model_ft = train_model(model_ft, criterion, optimizer_ft, exp_lr_scheduler, num_epochs=5)"
   ]
  },
  {
   "cell_type": "markdown",
   "metadata": {
    "papermill": {
     "duration": 0.024675,
     "end_time": "2021-11-16T09:00:27.859187",
     "exception": false,
     "start_time": "2021-11-16T09:00:27.834512",
     "status": "completed"
    },
    "tags": []
   },
   "source": [
    "## Remove Downloaded Data"
   ]
  },
  {
   "cell_type": "code",
   "execution_count": 10,
   "metadata": {
    "execution": {
     "iopub.execute_input": "2021-11-16T09:00:27.914538Z",
     "iopub.status.busy": "2021-11-16T09:00:27.913710Z",
     "iopub.status.idle": "2021-11-16T09:00:29.583784Z",
     "shell.execute_reply": "2021-11-16T09:00:29.583313Z"
    },
    "papermill": {
     "duration": 1.69928,
     "end_time": "2021-11-16T09:00:29.583895",
     "exception": false,
     "start_time": "2021-11-16T09:00:27.884615",
     "status": "completed"
    },
    "tags": []
   },
   "outputs": [],
   "source": [
    "import shutil\n",
    "shutil.rmtree(folderlocation)"
   ]
  }
 ],
 "metadata": {
  "kernelspec": {
   "display_name": "Python 3",
   "language": "python",
   "name": "python3"
  },
  "language_info": {
   "codemirror_mode": {
    "name": "ipython",
    "version": 3
   },
   "file_extension": ".py",
   "mimetype": "text/x-python",
   "name": "python",
   "nbconvert_exporter": "python",
   "pygments_lexer": "ipython3",
   "version": "3.7.6"
  },
  "papermill": {
   "duration": 16571.53596,
   "end_time": "2021-11-16T09:00:29.820693",
   "environment_variables": {},
   "exception": null,
   "input_path": "__notebook__.ipynb",
   "output_path": "__notebook__.ipynb",
   "parameters": {},
   "start_time": "2021-11-16T04:24:18.284733",
   "version": "2.1.0"
  },
  "widgets": {
   "application/vnd.jupyter.widget-state+json": {
    "state": {
     "03651b9a12ed45bfa24dd06fd6fd48c4": {
      "model_module": "@jupyter-widgets/base",
      "model_module_version": "1.2.0",
      "model_name": "LayoutModel",
      "state": {
       "_model_module": "@jupyter-widgets/base",
       "_model_module_version": "1.2.0",
       "_model_name": "LayoutModel",
       "_view_count": null,
       "_view_module": "@jupyter-widgets/base",
       "_view_module_version": "1.2.0",
       "_view_name": "LayoutView",
       "align_content": null,
       "align_items": null,
       "align_self": null,
       "border": null,
       "bottom": null,
       "display": null,
       "flex": null,
       "flex_flow": null,
       "grid_area": null,
       "grid_auto_columns": null,
       "grid_auto_flow": null,
       "grid_auto_rows": null,
       "grid_column": null,
       "grid_gap": null,
       "grid_row": null,
       "grid_template_areas": null,
       "grid_template_columns": null,
       "grid_template_rows": null,
       "height": null,
       "justify_content": null,
       "justify_items": null,
       "left": null,
       "margin": null,
       "max_height": null,
       "max_width": null,
       "min_height": null,
       "min_width": null,
       "object_fit": null,
       "object_position": null,
       "order": null,
       "overflow": null,
       "overflow_x": null,
       "overflow_y": null,
       "padding": null,
       "right": null,
       "top": null,
       "visibility": null,
       "width": null
      }
     },
     "18a3fa73424b4de98b9cb472405e3d5b": {
      "model_module": "@jupyter-widgets/controls",
      "model_module_version": "1.5.0",
      "model_name": "ProgressStyleModel",
      "state": {
       "_model_module": "@jupyter-widgets/controls",
       "_model_module_version": "1.5.0",
       "_model_name": "ProgressStyleModel",
       "_view_count": null,
       "_view_module": "@jupyter-widgets/base",
       "_view_module_version": "1.2.0",
       "_view_name": "StyleView",
       "bar_color": null,
       "description_width": "initial"
      }
     },
     "1965429565cc4badb551b7c33c480fe1": {
      "model_module": "@jupyter-widgets/controls",
      "model_module_version": "1.5.0",
      "model_name": "DescriptionStyleModel",
      "state": {
       "_model_module": "@jupyter-widgets/controls",
       "_model_module_version": "1.5.0",
       "_model_name": "DescriptionStyleModel",
       "_view_count": null,
       "_view_module": "@jupyter-widgets/base",
       "_view_module_version": "1.2.0",
       "_view_name": "StyleView",
       "description_width": ""
      }
     },
     "3ecb66163cd14fc582b2c23ab9aefbd7": {
      "model_module": "@jupyter-widgets/base",
      "model_module_version": "1.2.0",
      "model_name": "LayoutModel",
      "state": {
       "_model_module": "@jupyter-widgets/base",
       "_model_module_version": "1.2.0",
       "_model_name": "LayoutModel",
       "_view_count": null,
       "_view_module": "@jupyter-widgets/base",
       "_view_module_version": "1.2.0",
       "_view_name": "LayoutView",
       "align_content": null,
       "align_items": null,
       "align_self": null,
       "border": null,
       "bottom": null,
       "display": null,
       "flex": null,
       "flex_flow": null,
       "grid_area": null,
       "grid_auto_columns": null,
       "grid_auto_flow": null,
       "grid_auto_rows": null,
       "grid_column": null,
       "grid_gap": null,
       "grid_row": null,
       "grid_template_areas": null,
       "grid_template_columns": null,
       "grid_template_rows": null,
       "height": null,
       "justify_content": null,
       "justify_items": null,
       "left": null,
       "margin": null,
       "max_height": null,
       "max_width": null,
       "min_height": null,
       "min_width": null,
       "object_fit": null,
       "object_position": null,
       "order": null,
       "overflow": null,
       "overflow_x": null,
       "overflow_y": null,
       "padding": null,
       "right": null,
       "top": null,
       "visibility": null,
       "width": null
      }
     },
     "5e01f62821f54d6abbef1fcfbfe74e9c": {
      "model_module": "@jupyter-widgets/controls",
      "model_module_version": "1.5.0",
      "model_name": "ProgressStyleModel",
      "state": {
       "_model_module": "@jupyter-widgets/controls",
       "_model_module_version": "1.5.0",
       "_model_name": "ProgressStyleModel",
       "_view_count": null,
       "_view_module": "@jupyter-widgets/base",
       "_view_module_version": "1.2.0",
       "_view_name": "StyleView",
       "bar_color": null,
       "description_width": "initial"
      }
     },
     "64892f1b1b0d4f1ab2714119c0c48fca": {
      "model_module": "@jupyter-widgets/controls",
      "model_module_version": "1.5.0",
      "model_name": "HBoxModel",
      "state": {
       "_dom_classes": [],
       "_model_module": "@jupyter-widgets/controls",
       "_model_module_version": "1.5.0",
       "_model_name": "HBoxModel",
       "_view_count": null,
       "_view_module": "@jupyter-widgets/controls",
       "_view_module_version": "1.5.0",
       "_view_name": "HBoxView",
       "box_style": "",
       "children": [
        "IPY_MODEL_bd89ec362af540778a8abca73c3ae8a1",
        "IPY_MODEL_c9513cd8858c4c78987f6dd7dcbaedf1"
       ],
       "layout": "IPY_MODEL_3ecb66163cd14fc582b2c23ab9aefbd7"
      }
     },
     "6cbb81dfa7034b208278d89d0171080d": {
      "model_module": "@jupyter-widgets/base",
      "model_module_version": "1.2.0",
      "model_name": "LayoutModel",
      "state": {
       "_model_module": "@jupyter-widgets/base",
       "_model_module_version": "1.2.0",
       "_model_name": "LayoutModel",
       "_view_count": null,
       "_view_module": "@jupyter-widgets/base",
       "_view_module_version": "1.2.0",
       "_view_name": "LayoutView",
       "align_content": null,
       "align_items": null,
       "align_self": null,
       "border": null,
       "bottom": null,
       "display": null,
       "flex": null,
       "flex_flow": null,
       "grid_area": null,
       "grid_auto_columns": null,
       "grid_auto_flow": null,
       "grid_auto_rows": null,
       "grid_column": null,
       "grid_gap": null,
       "grid_row": null,
       "grid_template_areas": null,
       "grid_template_columns": null,
       "grid_template_rows": null,
       "height": null,
       "justify_content": null,
       "justify_items": null,
       "left": null,
       "margin": null,
       "max_height": null,
       "max_width": null,
       "min_height": null,
       "min_width": null,
       "object_fit": null,
       "object_position": null,
       "order": null,
       "overflow": null,
       "overflow_x": null,
       "overflow_y": null,
       "padding": null,
       "right": null,
       "top": null,
       "visibility": null,
       "width": null
      }
     },
     "7448956b8f7648b2bbf0b1a0d7da55fe": {
      "model_module": "@jupyter-widgets/base",
      "model_module_version": "1.2.0",
      "model_name": "LayoutModel",
      "state": {
       "_model_module": "@jupyter-widgets/base",
       "_model_module_version": "1.2.0",
       "_model_name": "LayoutModel",
       "_view_count": null,
       "_view_module": "@jupyter-widgets/base",
       "_view_module_version": "1.2.0",
       "_view_name": "LayoutView",
       "align_content": null,
       "align_items": null,
       "align_self": null,
       "border": null,
       "bottom": null,
       "display": null,
       "flex": null,
       "flex_flow": null,
       "grid_area": null,
       "grid_auto_columns": null,
       "grid_auto_flow": null,
       "grid_auto_rows": null,
       "grid_column": null,
       "grid_gap": null,
       "grid_row": null,
       "grid_template_areas": null,
       "grid_template_columns": null,
       "grid_template_rows": null,
       "height": null,
       "justify_content": null,
       "justify_items": null,
       "left": null,
       "margin": null,
       "max_height": null,
       "max_width": null,
       "min_height": null,
       "min_width": null,
       "object_fit": null,
       "object_position": null,
       "order": null,
       "overflow": null,
       "overflow_x": null,
       "overflow_y": null,
       "padding": null,
       "right": null,
       "top": null,
       "visibility": null,
       "width": null
      }
     },
     "76000cdeb9414440adab8de8549ddb91": {
      "model_module": "@jupyter-widgets/controls",
      "model_module_version": "1.5.0",
      "model_name": "HBoxModel",
      "state": {
       "_dom_classes": [],
       "_model_module": "@jupyter-widgets/controls",
       "_model_module_version": "1.5.0",
       "_model_name": "HBoxModel",
       "_view_count": null,
       "_view_module": "@jupyter-widgets/controls",
       "_view_module_version": "1.5.0",
       "_view_name": "HBoxView",
       "box_style": "",
       "children": [
        "IPY_MODEL_9acef8fdb2cc45dbb75d3e15cd0aa621",
        "IPY_MODEL_8ce494960be749dda49a9067a7e01d6d"
       ],
       "layout": "IPY_MODEL_6cbb81dfa7034b208278d89d0171080d"
      }
     },
     "816f4908b4be4c54ae03c9fd55c91aaf": {
      "model_module": "@jupyter-widgets/controls",
      "model_module_version": "1.5.0",
      "model_name": "DescriptionStyleModel",
      "state": {
       "_model_module": "@jupyter-widgets/controls",
       "_model_module_version": "1.5.0",
       "_model_name": "DescriptionStyleModel",
       "_view_count": null,
       "_view_module": "@jupyter-widgets/base",
       "_view_module_version": "1.2.0",
       "_view_name": "StyleView",
       "description_width": ""
      }
     },
     "8ce494960be749dda49a9067a7e01d6d": {
      "model_module": "@jupyter-widgets/controls",
      "model_module_version": "1.5.0",
      "model_name": "HTMLModel",
      "state": {
       "_dom_classes": [],
       "_model_module": "@jupyter-widgets/controls",
       "_model_module_version": "1.5.0",
       "_model_name": "HTMLModel",
       "_view_count": null,
       "_view_module": "@jupyter-widgets/controls",
       "_view_module_version": "1.5.0",
       "_view_name": "HTMLView",
       "description": "",
       "description_tooltip": null,
       "layout": "IPY_MODEL_7448956b8f7648b2bbf0b1a0d7da55fe",
       "placeholder": "​",
       "style": "IPY_MODEL_816f4908b4be4c54ae03c9fd55c91aaf",
       "value": " 169009152/? [00:20&lt;00:00, 30395720.78it/s]"
      }
     },
     "9acef8fdb2cc45dbb75d3e15cd0aa621": {
      "model_module": "@jupyter-widgets/controls",
      "model_module_version": "1.5.0",
      "model_name": "FloatProgressModel",
      "state": {
       "_dom_classes": [],
       "_model_module": "@jupyter-widgets/controls",
       "_model_module_version": "1.5.0",
       "_model_name": "FloatProgressModel",
       "_view_count": null,
       "_view_module": "@jupyter-widgets/controls",
       "_view_module_version": "1.5.0",
       "_view_name": "ProgressView",
       "bar_style": "info",
       "description": "",
       "description_tooltip": null,
       "layout": "IPY_MODEL_a228b4af95634e23bf77122a4796f516",
       "max": 1.0,
       "min": 0.0,
       "orientation": "horizontal",
       "style": "IPY_MODEL_5e01f62821f54d6abbef1fcfbfe74e9c",
       "value": 1.0
      }
     },
     "a228b4af95634e23bf77122a4796f516": {
      "model_module": "@jupyter-widgets/base",
      "model_module_version": "1.2.0",
      "model_name": "LayoutModel",
      "state": {
       "_model_module": "@jupyter-widgets/base",
       "_model_module_version": "1.2.0",
       "_model_name": "LayoutModel",
       "_view_count": null,
       "_view_module": "@jupyter-widgets/base",
       "_view_module_version": "1.2.0",
       "_view_name": "LayoutView",
       "align_content": null,
       "align_items": null,
       "align_self": null,
       "border": null,
       "bottom": null,
       "display": null,
       "flex": null,
       "flex_flow": null,
       "grid_area": null,
       "grid_auto_columns": null,
       "grid_auto_flow": null,
       "grid_auto_rows": null,
       "grid_column": null,
       "grid_gap": null,
       "grid_row": null,
       "grid_template_areas": null,
       "grid_template_columns": null,
       "grid_template_rows": null,
       "height": null,
       "justify_content": null,
       "justify_items": null,
       "left": null,
       "margin": null,
       "max_height": null,
       "max_width": null,
       "min_height": null,
       "min_width": null,
       "object_fit": null,
       "object_position": null,
       "order": null,
       "overflow": null,
       "overflow_x": null,
       "overflow_y": null,
       "padding": null,
       "right": null,
       "top": null,
       "visibility": null,
       "width": null
      }
     },
     "bd89ec362af540778a8abca73c3ae8a1": {
      "model_module": "@jupyter-widgets/controls",
      "model_module_version": "1.5.0",
      "model_name": "FloatProgressModel",
      "state": {
       "_dom_classes": [],
       "_model_module": "@jupyter-widgets/controls",
       "_model_module_version": "1.5.0",
       "_model_name": "FloatProgressModel",
       "_view_count": null,
       "_view_module": "@jupyter-widgets/controls",
       "_view_module_version": "1.5.0",
       "_view_name": "ProgressView",
       "bar_style": "success",
       "description": "100%",
       "description_tooltip": null,
       "layout": "IPY_MODEL_03651b9a12ed45bfa24dd06fd6fd48c4",
       "max": 254695146.0,
       "min": 0.0,
       "orientation": "horizontal",
       "style": "IPY_MODEL_18a3fa73424b4de98b9cb472405e3d5b",
       "value": 254695146.0
      }
     },
     "c9513cd8858c4c78987f6dd7dcbaedf1": {
      "model_module": "@jupyter-widgets/controls",
      "model_module_version": "1.5.0",
      "model_name": "HTMLModel",
      "state": {
       "_dom_classes": [],
       "_model_module": "@jupyter-widgets/controls",
       "_model_module_version": "1.5.0",
       "_model_name": "HTMLModel",
       "_view_count": null,
       "_view_module": "@jupyter-widgets/controls",
       "_view_module_version": "1.5.0",
       "_view_name": "HTMLView",
       "description": "",
       "description_tooltip": null,
       "layout": "IPY_MODEL_f8a58f3c5e6c4a43b6351f773212488f",
       "placeholder": "​",
       "style": "IPY_MODEL_1965429565cc4badb551b7c33c480fe1",
       "value": " 243M/243M [00:01&lt;00:00, 155MB/s]"
      }
     },
     "f8a58f3c5e6c4a43b6351f773212488f": {
      "model_module": "@jupyter-widgets/base",
      "model_module_version": "1.2.0",
      "model_name": "LayoutModel",
      "state": {
       "_model_module": "@jupyter-widgets/base",
       "_model_module_version": "1.2.0",
       "_model_name": "LayoutModel",
       "_view_count": null,
       "_view_module": "@jupyter-widgets/base",
       "_view_module_version": "1.2.0",
       "_view_name": "LayoutView",
       "align_content": null,
       "align_items": null,
       "align_self": null,
       "border": null,
       "bottom": null,
       "display": null,
       "flex": null,
       "flex_flow": null,
       "grid_area": null,
       "grid_auto_columns": null,
       "grid_auto_flow": null,
       "grid_auto_rows": null,
       "grid_column": null,
       "grid_gap": null,
       "grid_row": null,
       "grid_template_areas": null,
       "grid_template_columns": null,
       "grid_template_rows": null,
       "height": null,
       "justify_content": null,
       "justify_items": null,
       "left": null,
       "margin": null,
       "max_height": null,
       "max_width": null,
       "min_height": null,
       "min_width": null,
       "object_fit": null,
       "object_position": null,
       "order": null,
       "overflow": null,
       "overflow_x": null,
       "overflow_y": null,
       "padding": null,
       "right": null,
       "top": null,
       "visibility": null,
       "width": null
      }
     }
    },
    "version_major": 2,
    "version_minor": 0
   }
  }
 },
 "nbformat": 4,
 "nbformat_minor": 4
}
